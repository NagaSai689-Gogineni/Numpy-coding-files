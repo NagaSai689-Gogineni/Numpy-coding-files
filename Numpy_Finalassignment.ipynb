{
 "cells": [
  {
   "cell_type": "code",
   "execution_count": 3,
   "id": "4e265529",
   "metadata": {},
   "outputs": [],
   "source": [
    "import numpy as np"
   ]
  },
  {
   "cell_type": "markdown",
   "id": "6772fb77",
   "metadata": {},
   "source": [
    "### Tip_data assignment"
   ]
  },
  {
   "cell_type": "code",
   "execution_count": 4,
   "id": "3e1b8b6d",
   "metadata": {},
   "outputs": [],
   "source": [
    "table=np.genfromtxt(r\"C:\\Users\\Ammu\\Downloads\\tipsf word doc.txt\",delimiter=\",\",skip_header=1)"
   ]
  },
  {
   "cell_type": "code",
   "execution_count": 5,
   "id": "c8c09b13",
   "metadata": {},
   "outputs": [
    {
     "data": {
      "text/plain": [
       "array([[  0.  ,  16.99,   1.01, ...,   1.  ,   0.  ,   2.  ],\n",
       "       [  1.  ,  10.34,   1.66, ...,   1.  ,   0.  ,   3.  ],\n",
       "       [  2.  ,  21.01,   3.5 , ...,   1.  ,   0.  ,   3.  ],\n",
       "       ...,\n",
       "       [241.  ,  22.67,   2.  , ...,   0.  ,   0.  ,   2.  ],\n",
       "       [242.  ,  17.82,   1.75, ...,   0.  ,   0.  ,   2.  ],\n",
       "       [243.  ,  18.78,   3.  , ...,   2.  ,   0.  ,   2.  ]])"
      ]
     },
     "execution_count": 5,
     "metadata": {},
     "output_type": "execute_result"
    }
   ],
   "source": [
    "table"
   ]
  },
  {
   "cell_type": "code",
   "execution_count": 6,
   "id": "3315d5e4",
   "metadata": {},
   "outputs": [
    {
     "data": {
      "text/plain": [
       "(244, 8)"
      ]
     },
     "execution_count": 6,
     "metadata": {},
     "output_type": "execute_result"
    }
   ],
   "source": [
    "np.shape(table)"
   ]
  },
  {
   "cell_type": "code",
   "execution_count": 33,
   "id": "e011136b",
   "metadata": {},
   "outputs": [],
   "source": [
    "# 1.What is the total bill value"
   ]
  },
  {
   "cell_type": "code",
   "execution_count": 214,
   "id": "604588dc",
   "metadata": {},
   "outputs": [],
   "source": [
    "Total=table[:,1]"
   ]
  },
  {
   "cell_type": "code",
   "execution_count": 215,
   "id": "20c06f8b",
   "metadata": {},
   "outputs": [
    {
     "name": "stdout",
     "output_type": "stream",
     "text": [
      "Total bill value:\n",
      "4827.77\n"
     ]
    }
   ],
   "source": [
    "Total_bill_value=np.sum(Total)\n",
    "print(f\"Total bill value:\\n{Total_bill_value}\")"
   ]
  },
  {
   "cell_type": "code",
   "execution_count": 34,
   "id": "e6ec747f",
   "metadata": {},
   "outputs": [],
   "source": [
    "# 2.What is the total tip value"
   ]
  },
  {
   "cell_type": "code",
   "execution_count": 212,
   "id": "173ced33",
   "metadata": {},
   "outputs": [],
   "source": [
    "Total_tip=table[:,2]"
   ]
  },
  {
   "cell_type": "code",
   "execution_count": 213,
   "id": "4e4172d5",
   "metadata": {},
   "outputs": [
    {
     "name": "stdout",
     "output_type": "stream",
     "text": [
      "Total tip value:\n",
      "731.5799999999999\n"
     ]
    }
   ],
   "source": [
    "Total_tip_value=np.sum(Total_tip)\n",
    "print(f\"Total tip value:\\n{Total_tip_value}\")"
   ]
  },
  {
   "cell_type": "code",
   "execution_count": 35,
   "id": "92ed788b",
   "metadata": {},
   "outputs": [],
   "source": [
    "#3.Count how many sun,sat,thu,fri are there"
   ]
  },
  {
   "cell_type": "code",
   "execution_count": 45,
   "id": "bf493ff5",
   "metadata": {},
   "outputs": [
    {
     "name": "stdout",
     "output_type": "stream",
     "text": [
      "(array([0., 1., 2., 3.]), array([87, 76, 62, 19], dtype=int64))\n",
      "Number of Sundays: 87\n",
      "Number of Saturdays: 76\n",
      "Number of thursdays: 62\n",
      "Number of fridays: 19\n"
     ]
    }
   ],
   "source": [
    "day= np.array(table[:,5])\n",
    "day_counts=np.unique(day, return_counts=True)\n",
    "print(day_counts)\n",
    "sundays_count = np.sum(day == 0)\n",
    "saturday_count = np.sum(day == 1)\n",
    "thursday_count = np.sum(day == 2)\n",
    "friday_count = np.sum(day == 3)\n",
    "print(f\"Number of Sundays: {sundays_count}\")\n",
    "print(f\"Number of Saturdays: {saturday_count}\")\n",
    "print(f\"Number of thursdays: {thursday_count}\")\n",
    "print(f\"Number of fridays: {friday_count}\")"
   ]
  },
  {
   "cell_type": "code",
   "execution_count": 36,
   "id": "db005489",
   "metadata": {},
   "outputs": [],
   "source": [
    "#4.How many smokers are there"
   ]
  },
  {
   "cell_type": "code",
   "execution_count": 216,
   "id": "90aebb80",
   "metadata": {},
   "outputs": [],
   "source": [
    "smoker=table[: ,4]"
   ]
  },
  {
   "cell_type": "code",
   "execution_count": 217,
   "id": "878b3b13",
   "metadata": {},
   "outputs": [],
   "source": [
    "count_of_smokers = np.count_nonzero(smoker)"
   ]
  },
  {
   "cell_type": "code",
   "execution_count": 218,
   "id": "7a5d9c9c",
   "metadata": {},
   "outputs": [
    {
     "name": "stdout",
     "output_type": "stream",
     "text": [
      "Number of smokers are:93\n"
     ]
    }
   ],
   "source": [
    "print(f\"Number of smokers are:{count_of_smokers}\")"
   ]
  },
  {
   "cell_type": "code",
   "execution_count": 37,
   "id": "ddef3e1c",
   "metadata": {},
   "outputs": [],
   "source": [
    "#5. What is the avg tip given by male and female"
   ]
  },
  {
   "cell_type": "code",
   "execution_count": 239,
   "id": "cb602e2b",
   "metadata": {},
   "outputs": [],
   "source": [
    "tip=table[:,2]\n",
    "genders=table[:,3]"
   ]
  },
  {
   "cell_type": "code",
   "execution_count": 228,
   "id": "2ef8aba2",
   "metadata": {},
   "outputs": [
    {
     "name": "stdout",
     "output_type": "stream",
     "text": [
      "Average tip for Male: 2.83\n",
      "Average tip for Female: 3.09\n"
     ]
    }
   ],
   "source": [
    "seperate_genders=np.unique(genders)\n",
    "for i in seperate_gender:\n",
    "    tipsforgender = tip[genders == i].astype(float)\n",
    "    average_tip = np.mean(tipsforgender)\n",
    "    gender =\"Female\" if i == 1 else \"Male\"\n",
    "    print(f\"Average tip for {gender}: {average_tip:.2f}\") "
   ]
  },
  {
   "cell_type": "markdown",
   "id": "5a003b73",
   "metadata": {},
   "source": [
    "### OR"
   ]
  },
  {
   "cell_type": "code",
   "execution_count": 247,
   "id": "3d3260ce",
   "metadata": {},
   "outputs": [
    {
     "name": "stdout",
     "output_type": "stream",
     "text": [
      "Average tip for male is:2.8334482758620685\n"
     ]
    }
   ],
   "source": [
    "male=np.where(table[:,3]==0)\n",
    "a=np.mean(tip[male])\n",
    "print(f\"Average tip for male is:{a}\")"
   ]
  },
  {
   "cell_type": "code",
   "execution_count": 248,
   "id": "a5750297",
   "metadata": {},
   "outputs": [
    {
     "name": "stdout",
     "output_type": "stream",
     "text": [
      "Average tip for female is:3.0896178343949043\n"
     ]
    }
   ],
   "source": [
    "female=np.where(table[:,3]==1)\n",
    "b=np.mean(tip[female])\n",
    "print(f\"Average tip for female is:{b}\")"
   ]
  },
  {
   "cell_type": "code",
   "execution_count": 38,
   "id": "71f56976",
   "metadata": {},
   "outputs": [],
   "source": [
    "#6.How much amount have been spent by female and male"
   ]
  },
  {
   "cell_type": "code",
   "execution_count": 250,
   "id": "c1a11604",
   "metadata": {},
   "outputs": [],
   "source": [
    "total_bill=table[:,1]"
   ]
  },
  {
   "cell_type": "code",
   "execution_count": 251,
   "id": "e0490f4f",
   "metadata": {},
   "outputs": [
    {
     "name": "stdout",
     "output_type": "stream",
     "text": [
      "The amount have been spent by male is :1570.9499999999996\n"
     ]
    }
   ],
   "source": [
    "male=np.where(table[:,3]==0)\n",
    "a=np.sum(total_bill[male])\n",
    "print(f\"The amount have been spent by male is :{a}\")"
   ]
  },
  {
   "cell_type": "code",
   "execution_count": 252,
   "id": "1b911b1b",
   "metadata": {},
   "outputs": [
    {
     "name": "stdout",
     "output_type": "stream",
     "text": [
      "The amount have been spent by female is :3256.8199999999997\n"
     ]
    }
   ],
   "source": [
    "male=np.where(table[:,3]==1)\n",
    "bb=np.sum(total_bill[female])\n",
    "print(f\"The amount have been spent by female is :{bb}\")"
   ]
  },
  {
   "cell_type": "code",
   "execution_count": 39,
   "id": "7838824b",
   "metadata": {},
   "outputs": [],
   "source": [
    "#7.What is the min and max tip given"
   ]
  },
  {
   "cell_type": "code",
   "execution_count": 254,
   "id": "8e25f6f5",
   "metadata": {},
   "outputs": [
    {
     "name": "stdout",
     "output_type": "stream",
     "text": [
      "The max tip given:10.0\n"
     ]
    }
   ],
   "source": [
    "tip=table[:,2]\n",
    "maxi=np.max(tip)\n",
    "print(f\"The max tip given:{maxi}\")"
   ]
  },
  {
   "cell_type": "code",
   "execution_count": 256,
   "id": "a575df55",
   "metadata": {},
   "outputs": [
    {
     "name": "stdout",
     "output_type": "stream",
     "text": [
      "The min tip given:1.0\n"
     ]
    }
   ],
   "source": [
    "mini=np.min(tip)\n",
    "print(f\"The min tip given:{mini}\")"
   ]
  },
  {
   "cell_type": "code",
   "execution_count": 40,
   "id": "2b33a607",
   "metadata": {},
   "outputs": [],
   "source": [
    "#8.How many males and females are going for dinner and lunch"
   ]
  },
  {
   "cell_type": "code",
   "execution_count": 7,
   "id": "0b50d8f6",
   "metadata": {},
   "outputs": [
    {
     "name": "stdout",
     "output_type": "stream",
     "text": [
      "Total no.of females going for lunch are: 124\n",
      "Total no.of females going for dinner are: 33\n",
      "Total no.of males going for lunch are: 52\n",
      "Total no.of males going for dinner are: 35\n"
     ]
    }
   ],
   "source": [
    "print(\"Total no.of females going for lunch are: {}\".format(np.sum((table[:,3]==1)&(table[:,6]==0))))\n",
    "print(\"Total no.of females going for dinner are: {}\".format(np.sum((table[:,3]==1)&(table[:,6]==1))))\n",
    "print(\"Total no.of males going for lunch are: {}\".format(np.sum((table[:,3]==0)&(table[:,6]==0))))\n",
    "print(\"Total no.of males going for dinner are: {}\".format(np.sum((table[:,3]==0)&(table[:,6]==1))))"
   ]
  },
  {
   "cell_type": "code",
   "execution_count": 41,
   "id": "ab69b6a5",
   "metadata": {},
   "outputs": [],
   "source": [
    "#9.Find out the average size"
   ]
  },
  {
   "cell_type": "code",
   "execution_count": 289,
   "id": "ff35f479",
   "metadata": {},
   "outputs": [
    {
     "name": "stdout",
     "output_type": "stream",
     "text": [
      "Average size is:2.569672131147541\n"
     ]
    }
   ],
   "source": [
    "size=table[:,7]\n",
    "avg_size=np.mean(size)\n",
    "print(f\"Average size is:{avg_size}\")"
   ]
  },
  {
   "cell_type": "code",
   "execution_count": 42,
   "id": "54aad245",
   "metadata": {},
   "outputs": [],
   "source": [
    "#10.How many female smokers are there and male smokers are there"
   ]
  },
  {
   "cell_type": "code",
   "execution_count": 8,
   "id": "9e828bef",
   "metadata": {},
   "outputs": [
    {
     "name": "stdout",
     "output_type": "stream",
     "text": [
      "Number of Female smokers: 60\n",
      "Number of Male smokers: 33\n"
     ]
    }
   ],
   "source": [
    "smoker=table[: ,4]\n",
    "genders=table[:,3]\n",
    "femalesmokers=np.sum((genders==1)&(smoker==1))\n",
    "malesmokers=np.sum((genders==0)&(smoker==1))\n",
    "print(f\"Number of Female smokers: {femalesmokers}\")\n",
    "print(f\"Number of Male smokers: {malesmokers}\")"
   ]
  },
  {
   "cell_type": "markdown",
   "id": "9886dcd5",
   "metadata": {},
   "source": [
    "### Train_Extended data assignment"
   ]
  },
  {
   "cell_type": "code",
   "execution_count": 12,
   "id": "b3d6a721",
   "metadata": {},
   "outputs": [
    {
     "name": "stdout",
     "output_type": "stream",
     "text": [
      "[[ 1.575       1.225       0.375      ...  6.3219385   9.63883\n",
      "  10.        ]\n",
      " [ 1.2375      1.          0.375      ...  3.798833    7.654365\n",
      "  19.        ]\n",
      " [ 1.45        1.1625      0.4125     ...  7.01650125  7.257472\n",
      "  11.        ]\n",
      " ...\n",
      " [ 1.125       0.9125      0.2875     ...  1.984465    3.118445\n",
      "   7.        ]\n",
      " [ 1.625       1.275       0.4125     ...  7.86698625 10.489315\n",
      "  11.        ]\n",
      " [ 1.5875      1.25        0.3875     ...  7.38504475  8.788345\n",
      "  11.        ]]\n"
     ]
    }
   ],
   "source": [
    "table2=np.genfromtxt(r\"C:\\Users\\Ammu\\Downloads\\train_extended doc.txt\",delimiter=\",\", skip_header=1)\n",
    "print(table2)"
   ]
  },
  {
   "cell_type": "code",
   "execution_count": 9,
   "id": "2f177c13",
   "metadata": {},
   "outputs": [],
   "source": [
    "# 1. What is the maximum and minimum length"
   ]
  },
  {
   "cell_type": "code",
   "execution_count": 13,
   "id": "48b47c90",
   "metadata": {},
   "outputs": [
    {
     "name": "stdout",
     "output_type": "stream",
     "text": [
      "The maximum length is:  7.58349125\n",
      "The minimum length is:  0.0\n"
     ]
    }
   ],
   "source": [
    "x = np.max(table2[:,0])\n",
    "y = np.min(table2[:,0])\n",
    "print(\"The maximum length is: \", x)\n",
    "print(\"The minimum length is: \", y)"
   ]
  },
  {
   "cell_type": "code",
   "execution_count": 14,
   "id": "b41a1661",
   "metadata": {},
   "outputs": [],
   "source": [
    "# 2. Find out the difference between maximum and minimum length"
   ]
  },
  {
   "cell_type": "code",
   "execution_count": 15,
   "id": "a49e0563",
   "metadata": {},
   "outputs": [
    {
     "name": "stdout",
     "output_type": "stream",
     "text": [
      "The difference between maximum and minimum length is:  7.58349125\n"
     ]
    }
   ],
   "source": [
    "print(\"The difference between maximum and minimum length is: \", x-y)"
   ]
  },
  {
   "cell_type": "code",
   "execution_count": 16,
   "id": "f2072fcf",
   "metadata": {},
   "outputs": [],
   "source": [
    "# 3. Find column wise average"
   ]
  },
  {
   "cell_type": "code",
   "execution_count": 18,
   "id": "4d218de6",
   "metadata": {},
   "outputs": [
    {
     "name": "stdout",
     "output_type": "stream",
     "text": [
      "Average length is:  1.3124480799562501\n",
      "Average diameter is:  1.020320357165\n",
      "Average height is:  0.34602787104999994\n",
      "Average weight is:  23.123436312982403\n",
      "Average shucked weight is:  9.989370248049001\n",
      "Average viscera weight is:  4.993180956748749\n",
      "Average shell weight is:  6.634229147607001\n",
      "Average age is:  9.950615\n"
     ]
    }
   ],
   "source": [
    "print(\"Average length is: \", np.average(table2[:,0]))\n",
    "print(\"Average diameter is: \", np.average(table2[:,1]))\n",
    "print(\"Average height is: \", np.average(table2[:,2]))\n",
    "print(\"Average weight is: \", np.average(table2[:,3]))\n",
    "print(\"Average shucked weight is: \", np.average(table2[:,4]))\n",
    "print(\"Average viscera weight is: \", np.average(table2[:,5]))\n",
    "print(\"Average shell weight is: \", np.average(table2[:,6]))\n",
    "print(\"Average age is: \", np.average(table2[:,7]))"
   ]
  },
  {
   "cell_type": "code",
   "execution_count": 19,
   "id": "e2490f10",
   "metadata": {},
   "outputs": [],
   "source": [
    "# 4. Find out all the ages whose height > 0.4"
   ]
  },
  {
   "cell_type": "code",
   "execution_count": 20,
   "id": "cb88cce0",
   "metadata": {},
   "outputs": [
    {
     "name": "stdout",
     "output_type": "stream",
     "text": [
      "The ages with height > 0.4 are:  [11. 14. 13. ... 11. 11. 11.]\n"
     ]
    }
   ],
   "source": [
    "print(\"The ages with height > 0.4 are: \", table2[:,7][table2[:,2]>0.4])"
   ]
  },
  {
   "cell_type": "code",
   "execution_count": 21,
   "id": "b21ea99a",
   "metadata": {},
   "outputs": [],
   "source": [
    "# 5. What is the average height and weight of persons whose age is 10"
   ]
  },
  {
   "cell_type": "code",
   "execution_count": 22,
   "id": "066c95ab",
   "metadata": {},
   "outputs": [
    {
     "name": "stdout",
     "output_type": "stream",
     "text": [
      "The average height is:  0.3833672856539947\n",
      "The average weight is:  28.243308450511314\n"
     ]
    }
   ],
   "source": [
    "print(\"The average height is: \",np.average(table2[:,2][table2[:,7]==10]))\n",
    "print(\"The average weight is: \",np.average(table2[:,3][table2[:,7]==10]))"
   ]
  },
  {
   "cell_type": "code",
   "execution_count": 23,
   "id": "29cd3673",
   "metadata": {},
   "outputs": [],
   "source": [
    "# 6. What is the total shell weight"
   ]
  },
  {
   "cell_type": "code",
   "execution_count": 24,
   "id": "5b33a58d",
   "metadata": {},
   "outputs": [
    {
     "name": "stdout",
     "output_type": "stream",
     "text": [
      "Total shell weight is:  1326845.8295214002\n"
     ]
    }
   ],
   "source": [
    "print(\"Total shell weight is: \", np.sum(table2[:,6]))"
   ]
  },
  {
   "cell_type": "code",
   "execution_count": 25,
   "id": "8c7ec713",
   "metadata": {},
   "outputs": [],
   "source": [
    "# 7. How many persons belong to each and every unique age"
   ]
  },
  {
   "cell_type": "code",
   "execution_count": 26,
   "id": "0b077536",
   "metadata": {},
   "outputs": [
    {
     "data": {
      "text/plain": [
       "(array([ 1.,  2.,  3.,  4.,  5.,  6.,  7.,  8.,  9., 10., 11., 12., 13.,\n",
       "        14., 15., 16., 17., 18., 19., 20., 21., 22., 23., 24., 25., 26.,\n",
       "        27., 29.]),\n",
       " array([   46,    42,   625,  2787,  5475, 12450, 18276, 26818, 32906,\n",
       "        30803, 23457, 12717, 10037,  6352,  4831,  3191,  2705,  1953,\n",
       "         1591,  1206,   721,   296,   352,   110,    51,    46,    99,\n",
       "           57], dtype=int64))"
      ]
     },
     "execution_count": 26,
     "metadata": {},
     "output_type": "execute_result"
    }
   ],
   "source": [
    "np.unique(table2[:,-1],return_counts=True)"
   ]
  },
  {
   "cell_type": "code",
   "execution_count": 27,
   "id": "30a83455",
   "metadata": {},
   "outputs": [],
   "source": [
    "# 8. What is the difference between shucked weight and viscera weight"
   ]
  },
  {
   "cell_type": "code",
   "execution_count": 28,
   "id": "07d43fe2",
   "metadata": {},
   "outputs": [
    {
     "name": "stdout",
     "output_type": "stream",
     "text": [
      "The difference between shucked weight and viscera weight is:  999237.8582600503\n"
     ]
    }
   ],
   "source": [
    "print(\"The difference between shucked weight and viscera weight is: \", np.sum(table2[:,4])-np.sum(table2[:,5]))"
   ]
  },
  {
   "cell_type": "code",
   "execution_count": 29,
   "id": "2b8a4cea",
   "metadata": {},
   "outputs": [],
   "source": [
    "# 9. what is the average height of persons whose age is between 14 and 19"
   ]
  },
  {
   "cell_type": "code",
   "execution_count": 30,
   "id": "908b3997",
   "metadata": {},
   "outputs": [
    {
     "name": "stdout",
     "output_type": "stream",
     "text": [
      "The average height of persons whose age is between 14 and 19 is:  0.4190701892744479\n"
     ]
    }
   ],
   "source": [
    "print(\"The average height of persons whose age is between 14 and 19 is: \", np.average(table2[:,2][(table2[:,-1]>14) & (table2[:,-1]<19)]))"
   ]
  },
  {
   "cell_type": "code",
   "execution_count": 31,
   "id": "3df7a94d",
   "metadata": {},
   "outputs": [],
   "source": [
    "# 10. What is the average weight of shucked weight, viscera weight, shell weight"
   ]
  },
  {
   "cell_type": "code",
   "execution_count": 32,
   "id": "dce6edf3",
   "metadata": {},
   "outputs": [
    {
     "name": "stdout",
     "output_type": "stream",
     "text": [
      "The average of shuckedweight,visceraweight,shellweight is: 4323356.07048095\n"
     ]
    }
   ],
   "source": [
    "print(\"The average of shuckedweight,visceraweight,shellweight is:\", np.average(np.sum(table2[:,-2])+np.sum(table2[:,-3])+np.sum(table2[:,-4])))"
   ]
  },
  {
   "cell_type": "code",
   "execution_count": null,
   "id": "90d971da",
   "metadata": {},
   "outputs": [],
   "source": []
  }
 ],
 "metadata": {
  "kernelspec": {
   "display_name": "Python 3 (ipykernel)",
   "language": "python",
   "name": "python3"
  },
  "language_info": {
   "codemirror_mode": {
    "name": "ipython",
    "version": 3
   },
   "file_extension": ".py",
   "mimetype": "text/x-python",
   "name": "python",
   "nbconvert_exporter": "python",
   "pygments_lexer": "ipython3",
   "version": "3.10.9"
  }
 },
 "nbformat": 4,
 "nbformat_minor": 5
}
